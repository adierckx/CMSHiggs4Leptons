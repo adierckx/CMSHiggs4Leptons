{
 "cells": [
  {
   "cell_type": "code",
   "execution_count": 1,
   "id": "frank-tooth",
   "metadata": {},
   "outputs": [
    {
     "name": "stdout",
     "output_type": "stream",
     "text": [
      "Welcome to JupyROOT 6.22/07\n",
      "Number of entries:  15787\n"
     ]
    }
   ],
   "source": [
    "import os,sys,socket,argparse\n",
    "import os\n",
    "import ROOT\n",
    "import math\n",
    "from array import array\n",
    "import numpy as np\n",
    "%jsroot on\n",
    "\n",
    "#Importing a helper file where some functions are defined\n",
    "from helper import *\n",
    "\n",
    "#Input file\n",
    "inputfile = ROOT.TFile(\"events4leptonsCMS_FullRun2.root\",\"READ\")\n",
    "\n",
    "#Output file\n",
    "outputfile = ROOT.TFile(\"output.root\",\"RECREATE\")\n",
    "\n",
    "#Accessing the \"TTree\" from root that contains the data (one entry per event)\n",
    "tree = inputfile.Get(\"tree\")\n",
    "\n",
    "nentries = tree.GetEntries()\n",
    "print(\"Number of entries: \", nentries)"
   ]
  },
  {
   "cell_type": "code",
   "execution_count": 2,
   "id": "dietary-expense",
   "metadata": {},
   "outputs": [],
   "source": [
    "#Example of histograms \n",
    "#The arguments are the following: \n",
    "#\"name\", \"title;x axis title;yaxis title\", nb of bins, min value, max value\n",
    "hist_npv = ROOT.TH1F(\"hist_NPV\", \"NPV;Number of reconstructed vertices;Events\", 100, 0, 100)\n",
    "hist_massfourleptons = ROOT.TH1F(\"hist_massfourleptons\",\";Four Lepton Invariant Mass;Events\", 5000, 0, 500)"
   ]
  },
  {
   "cell_type": "code",
   "execution_count": 3,
   "id": "cutting-section",
   "metadata": {},
   "outputs": [
    {
     "name": "stdout",
     "output_type": "stream",
     "text": [
      "Event number 0 \n",
      "Nb of reconstructed vertices:  14\n",
      "Lepton number 0 pt: 33.616 , eta: -1.297 , phi: -0.167 , pdgid: 11\n",
      "Lepton number 1 pt: 21.580 , eta: 0.881 , phi: 2.226 , pdgid: -11\n",
      "Lepton number 2 pt: 36.310 , eta: -0.096 , phi: 2.694 , pdgid: 13\n",
      "Lepton number 3 pt: 36.043 , eta: -1.767 , phi: -1.012 , pdgid: -13\n",
      "Event number 1000 \n",
      "Nb of reconstructed vertices:  23\n",
      "Lepton number 0 pt: 37.353 , eta: -1.137 , phi: -3.026 , pdgid: 13\n",
      "Lepton number 1 pt: 24.086 , eta: 0.128 , phi: -1.365 , pdgid: 13\n",
      "Lepton number 2 pt: 18.424 , eta: 0.092 , phi: -1.372 , pdgid: -13\n",
      "Lepton number 3 pt: 16.359 , eta: 0.082 , phi: -1.309 , pdgid: -13\n",
      "Event number 2000 \n",
      "Nb of reconstructed vertices:  13\n",
      "Lepton number 0 pt: 63.791 , eta: -0.656 , phi: 2.900 , pdgid: 13\n",
      "Lepton number 1 pt: 61.371 , eta: 0.433 , phi: 0.151 , pdgid: 13\n",
      "Lepton number 2 pt: 46.734 , eta: 0.422 , phi: -2.067 , pdgid: -13\n",
      "Lepton number 3 pt: 33.137 , eta: 0.426 , phi: 0.149 , pdgid: -13\n",
      "Event number 3000 \n",
      "Nb of reconstructed vertices:  25\n",
      "Lepton number 0 pt: 60.854 , eta: -1.651 , phi: -0.809 , pdgid: 13\n",
      "Lepton number 1 pt: 57.655 , eta: 1.786 , phi: 1.785 , pdgid: 13\n",
      "Lepton number 2 pt: 50.211 , eta: -1.334 , phi: -2.786 , pdgid: -13\n",
      "Lepton number 3 pt: 22.472 , eta: -0.276 , phi: 1.236 , pdgid: -13\n",
      "Event number 4000 \n",
      "Nb of reconstructed vertices:  34\n",
      "Lepton number 0 pt: 36.508 , eta: 0.688 , phi: -2.715 , pdgid: 13\n",
      "Lepton number 1 pt: 24.638 , eta: 0.727 , phi: 0.122 , pdgid: -13\n",
      "Lepton number 2 pt: 12.795 , eta: 1.234 , phi: -0.128 , pdgid: -13\n",
      "Lepton number 3 pt: 11.673 , eta: 0.091 , phi: 1.660 , pdgid: 13\n",
      "Event number 5000 \n",
      "Nb of reconstructed vertices:  44\n",
      "Lepton number 0 pt: 83.473 , eta: -0.953 , phi: 1.774 , pdgid: -13\n",
      "Lepton number 1 pt: 16.803 , eta: 1.178 , phi: 1.840 , pdgid: 13\n",
      "Lepton number 2 pt: 16.247 , eta: 1.174 , phi: 1.834 , pdgid: 13\n",
      "Lepton number 3 pt: 12.432 , eta: 1.135 , phi: 1.860 , pdgid: 13\n",
      "Event number 6000 \n",
      "Nb of reconstructed vertices:  40\n",
      "Lepton number 0 pt: 47.143 , eta: -1.754 , phi: 2.521 , pdgid: 13\n",
      "Lepton number 1 pt: 44.635 , eta: -1.769 , phi: 2.526 , pdgid: 13\n",
      "Lepton number 2 pt: 44.543 , eta: -1.516 , phi: -0.756 , pdgid: -13\n",
      "Lepton number 3 pt: 11.190 , eta: -2.348 , phi: -2.074 , pdgid: -13\n",
      "Event number 7000 \n",
      "Nb of reconstructed vertices:  34\n",
      "Lepton number 0 pt: 58.502 , eta: -0.756 , phi: -1.804 , pdgid: -13\n",
      "Lepton number 1 pt: 53.910 , eta: -0.712 , phi: 1.910 , pdgid: 13\n",
      "Lepton number 2 pt: 49.741 , eta: -0.148 , phi: 2.625 , pdgid: 13\n",
      "Lepton number 3 pt: 45.322 , eta: -0.869 , phi: 1.626 , pdgid: -13\n",
      "Event number 8000 \n",
      "Nb of reconstructed vertices:  40\n",
      "Lepton number 0 pt: 35.903 , eta: 0.789 , phi: -0.957 , pdgid: 13\n",
      "Lepton number 1 pt: 29.414 , eta: -0.235 , phi: 3.075 , pdgid: -13\n",
      "Lepton number 2 pt: 15.248 , eta: 1.209 , phi: 0.071 , pdgid: -13\n",
      "Lepton number 3 pt: 13.544 , eta: 1.210 , phi: 0.083 , pdgid: -13\n",
      "Event number 9000 \n",
      "Nb of reconstructed vertices:  31\n",
      "Lepton number 0 pt: 107.477 , eta: 1.892 , phi: -2.934 , pdgid: 11\n",
      "Lepton number 1 pt: 39.066 , eta: 1.977 , phi: 1.690 , pdgid: -11\n",
      "Lepton number 2 pt: 74.163 , eta: 0.982 , phi: -0.869 , pdgid: 13\n",
      "Lepton number 3 pt: 58.351 , eta: 1.595 , phi: 0.510 , pdgid: -13\n",
      "Event number 10000 \n",
      "Nb of reconstructed vertices:  25\n",
      "Lepton number 0 pt: 68.579 , eta: -1.417 , phi: -1.015 , pdgid: 11\n",
      "Lepton number 1 pt: 32.797 , eta: -0.726 , phi: -3.055 , pdgid: -11\n",
      "Lepton number 2 pt: 70.726 , eta: 2.212 , phi: -2.124 , pdgid: 13\n",
      "Lepton number 3 pt: 26.270 , eta: 1.362 , phi: 1.935 , pdgid: -13\n",
      "Event number 11000 \n",
      "Nb of reconstructed vertices:  41\n",
      "Lepton number 0 pt: 29.285 , eta: 1.447 , phi: 2.611 , pdgid: 13\n",
      "Lepton number 1 pt: 16.548 , eta: 1.792 , phi: -0.306 , pdgid: -13\n",
      "Lepton number 2 pt: 16.113 , eta: 1.631 , phi: -1.159 , pdgid: -13\n",
      "Lepton number 3 pt: 12.549 , eta: 2.268 , phi: -0.520 , pdgid: 13\n",
      "Event number 12000 \n",
      "Nb of reconstructed vertices:  36\n",
      "Lepton number 0 pt: 15.700 , eta: 1.098 , phi: -0.709 , pdgid: 11\n",
      "Lepton number 1 pt: 11.396 , eta: 0.689 , phi: -2.470 , pdgid: -11\n",
      "Lepton number 2 pt: 58.429 , eta: 1.838 , phi: 0.846 , pdgid: 13\n",
      "Lepton number 3 pt: 36.077 , eta: 0.703 , phi: -1.815 , pdgid: -13\n",
      "Event number 13000 \n",
      "Nb of reconstructed vertices:  18\n",
      "Lepton number 0 pt: 50.836 , eta: 0.688 , phi: -1.654 , pdgid: 11\n",
      "Lepton number 1 pt: 32.810 , eta: 0.101 , phi: 1.369 , pdgid: -11\n",
      "Lepton number 2 pt: 17.787 , eta: 0.111 , phi: 0.862 , pdgid: -13\n",
      "Lepton number 3 pt: 11.513 , eta: 0.102 , phi: 0.868 , pdgid: 13\n",
      "Event number 14000 \n",
      "Nb of reconstructed vertices:  45\n",
      "Lepton number 0 pt: 37.912 , eta: 0.533 , phi: -3.010 , pdgid: 11\n",
      "Lepton number 1 pt: 17.380 , eta: 1.042 , phi: -0.209 , pdgid: -11\n",
      "Lepton number 2 pt: 10.344 , eta: 0.651 , phi: -2.931 , pdgid: -11\n",
      "Lepton number 3 pt: 23.635 , eta: -0.554 , phi: 1.296 , pdgid: -13\n",
      "Event number 15000 \n",
      "Nb of reconstructed vertices:  16\n",
      "Lepton number 0 pt: 39.266 , eta: -0.704 , phi: 1.841 , pdgid: -11\n",
      "Lepton number 1 pt: 13.960 , eta: 0.101 , phi: -2.425 , pdgid: 11\n",
      "Lepton number 2 pt: 15.042 , eta: -1.372 , phi: -1.063 , pdgid: 13\n",
      "Lepton number 3 pt: 11.108 , eta: -1.308 , phi: -1.047 , pdgid: -13\n"
     ]
    }
   ],
   "source": [
    "#Loop over entries\n",
    "for i in range(0, nentries):\n",
    "    #Load entry number i\n",
    "    tree.GetEntry(i)\n",
    "    #Every 1000th entry, print some info\n",
    "    if i%1000==0: print(\"Event number\",i,\"\\nNb of reconstructed vertices: \",tree._n_PV)\n",
    "    #Fill the number of reconstructed vertices in a histogram\n",
    "    hist_npv.Fill(tree._n_PV)\n",
    "    for lep in range(0,len(tree._lPt)):\n",
    "    #Every 1000th entry, print some info about the leptons in the event\n",
    "        if i%1000==0: \n",
    "            print(\"Lepton number\",lep,\n",
    "                \"pt:\", '%.3f'%tree._lPt[lep],\",\", \n",
    "                \"eta:\", '%.3f'%tree._lEta[lep],\",\", \n",
    "                \"phi:\", '%.3f'%tree._lPhi[lep],\",\", \n",
    "                \"pdgid:\", tree._lpdgId[lep]) #pdgid: e-=11, e+=-11, mu-=13, mu+=-13\n",
    "      \n",
    "    #Here you should do several loops and compute the invariant mass of the four leptons\n",
    "    #The following \n",
    "    mass = invariantmass(tree, 0, 1, 2, 3)\n",
    "    hist_massfourleptons.Fill(mass)"
   ]
  },
  {
   "cell_type": "code",
   "execution_count": 4,
   "id": "thrown-broadway",
   "metadata": {},
   "outputs": [],
   "source": [
    "c = ROOT.TCanvas(\"canvas\",\"c_NPV\",600,600)"
   ]
  },
  {
   "cell_type": "code",
   "execution_count": 5,
   "id": "blocked-benjamin",
   "metadata": {},
   "outputs": [
    {
     "data": {
      "text/html": [
       "\n",
       "<div id=\"root_plot_1667863593798\"\n",
       "     style=\"width: 596px; height: 572px\">\n",
       "</div>\n",
       "<script src=\"/static/components/requirejs/require.js\" type=\"text/javascript\" charset=\"utf-8\"></script>\n",
       "<script>\n",
       " requirejs.config({\n",
       "     paths: {\n",
       "       'JSRootCore' : '/static/scripts/JSRootCore',\n",
       "     }\n",
       "   });\n",
       " require(['JSRootCore'],\n",
       "     function(Core) {\n",
       "       var obj = Core.JSONR_unref({\"_typename\":\"TCanvas\",\"fUniqueID\":0,\"fBits\":3342344,\"fLineColor\":1,\"fLineStyle\":1,\"fLineWidth\":1,\"fFillColor\":0,\"fFillStyle\":1001,\"fLeftMargin\":0.1,\"fRightMargin\":0.1,\"fBottomMargin\":0.1,\"fTopMargin\":0.1,\"fXfile\":2,\"fYfile\":2,\"fAfile\":1,\"fXstat\":0.99,\"fYstat\":0.99,\"fAstat\":2,\"fFrameFillColor\":0,\"fFrameLineColor\":1,\"fFrameFillStyle\":1001,\"fFrameLineStyle\":1,\"fFrameLineWidth\":1,\"fFrameBorderSize\":1,\"fFrameBorderMode\":0,\"fX1\":-12.5000009313226,\"fY1\":-72.3187553881671,\"fX2\":112.500000931323,\"fY2\":650.868755388167,\"fXtoAbsPixelk\":59.600053552437,\"fXtoPixelk\":59.600053552437,\"fXtoPixel\":4.76799992895126,\"fYtoAbsPixelk\":514.800046590614,\"fYtoPixelk\":514.800046590614,\"fYtoPixel\":-0.79094286264148,\"fUtoAbsPixelk\":5e-5,\"fUtoPixelk\":5e-5,\"fUtoPixel\":596,\"fVtoAbsPixelk\":572.00005,\"fVtoPixelk\":572,\"fVtoPixel\":-572,\"fAbsPixeltoXk\":-12.5000009313226,\"fPixeltoXk\":-12.5000009313226,\"fPixeltoX\":0.209731546749405,\"fAbsPixeltoYk\":650.868755388167,\"fPixeltoYk\":-72.3187553881671,\"fPixeltoY\":-1.26431383002856,\"fXlowNDC\":0,\"fYlowNDC\":0,\"fXUpNDC\":1,\"fYUpNDC\":1,\"fWNDC\":1,\"fHNDC\":1,\"fAbsXlowNDC\":0,\"fAbsYlowNDC\":0,\"fAbsWNDC\":1,\"fAbsHNDC\":1,\"fUxmin\":0,\"fUymin\":0,\"fUxmax\":100,\"fUymax\":578.55,\"fTheta\":30,\"fPhi\":30,\"fAspectRatio\":0,\"fNumber\":0,\"fTickx\":0,\"fTicky\":0,\"fLogx\":0,\"fLogy\":0,\"fLogz\":0,\"fPadPaint\":0,\"fCrosshair\":0,\"fCrosshairPos\":0,\"fBorderSize\":2,\"fBorderMode\":0,\"fModified\":false,\"fGridx\":false,\"fGridy\":false,\"fAbsCoord\":false,\"fEditable\":true,\"fFixedAspectRatio\":false,\"fPrimitives\":{\"_typename\":\"TList\",\"name\":\"TList\",\"arr\":[{\"_typename\":\"TFrame\",\"fUniqueID\":0,\"fBits\":8,\"fLineColor\":1,\"fLineStyle\":1,\"fLineWidth\":1,\"fFillColor\":0,\"fFillStyle\":1001,\"fX1\":0,\"fY1\":0,\"fX2\":100,\"fY2\":578.55,\"fBorderSize\":1,\"fBorderMode\":0},{\"_typename\":\"TH1F\",\"fUniqueID\":0,\"fBits\":8,\"fName\":\"hist_NPV\",\"fTitle\":\"NPV\",\"fLineColor\":602,\"fLineStyle\":1,\"fLineWidth\":1,\"fFillColor\":0,\"fFillStyle\":1001,\"fMarkerColor\":1,\"fMarkerStyle\":1,\"fMarkerSize\":1,\"fNcells\":102,\"fXaxis\":{\"_typename\":\"TAxis\",\"fUniqueID\":0,\"fBits\":0,\"fName\":\"xaxis\",\"fTitle\":\"Number of reconstructed vertices\",\"fNdivisions\":510,\"fAxisColor\":1,\"fLabelColor\":1,\"fLabelFont\":42,\"fLabelOffset\":0.005,\"fLabelSize\":0.035,\"fTickLength\":0.03,\"fTitleOffset\":1,\"fTitleSize\":0.035,\"fTitleColor\":1,\"fTitleFont\":42,\"fNbins\":100,\"fXmin\":0,\"fXmax\":100,\"fXbins\":[],\"fFirst\":0,\"fLast\":0,\"fBits2\":0,\"fTimeDisplay\":false,\"fTimeFormat\":\"\",\"fLabels\":null,\"fModLabs\":null},\"fYaxis\":{\"_typename\":\"TAxis\",\"fUniqueID\":0,\"fBits\":0,\"fName\":\"yaxis\",\"fTitle\":\"Events\",\"fNdivisions\":510,\"fAxisColor\":1,\"fLabelColor\":1,\"fLabelFont\":42,\"fLabelOffset\":0.005,\"fLabelSize\":0.035,\"fTickLength\":0.03,\"fTitleOffset\":0,\"fTitleSize\":0.035,\"fTitleColor\":1,\"fTitleFont\":42,\"fNbins\":1,\"fXmin\":0,\"fXmax\":1,\"fXbins\":[],\"fFirst\":0,\"fLast\":0,\"fBits2\":0,\"fTimeDisplay\":false,\"fTimeFormat\":\"\",\"fLabels\":null,\"fModLabs\":null},\"fZaxis\":{\"_typename\":\"TAxis\",\"fUniqueID\":0,\"fBits\":0,\"fName\":\"zaxis\",\"fTitle\":\"\",\"fNdivisions\":510,\"fAxisColor\":1,\"fLabelColor\":1,\"fLabelFont\":42,\"fLabelOffset\":0.005,\"fLabelSize\":0.035,\"fTickLength\":0.03,\"fTitleOffset\":1,\"fTitleSize\":0.035,\"fTitleColor\":1,\"fTitleFont\":42,\"fNbins\":1,\"fXmin\":0,\"fXmax\":1,\"fXbins\":[],\"fFirst\":0,\"fLast\":0,\"fBits2\":0,\"fTimeDisplay\":false,\"fTimeFormat\":\"\",\"fLabels\":null,\"fModLabs\":null},\"fBarOffset\":0,\"fBarWidth\":1000,\"fEntries\":15787,\"fTsumw\":15781,\"fTsumw2\":15781,\"fTsumwx\":493323,\"fTsumwx2\":17926527,\"fMaximum\":-1111,\"fMinimum\":-1111,\"fNormFactor\":0,\"fContour\":[],\"fSumw2\":[],\"fOption\":\"\",\"fFunctions\":{\"_typename\":\"TList\",\"name\":\"TList\",\"arr\":[{\"_typename\":\"TPaveStats\",\"fUniqueID\":0,\"fBits\":9,\"fLineColor\":1,\"fLineStyle\":1,\"fLineWidth\":1,\"fFillColor\":0,\"fFillStyle\":1001,\"fX1\":85.0000025331975,\"fY1\":488.151569774025,\"fX2\":110.000003278256,\"fY2\":603.861568911919,\"fX1NDC\":0.780000016093254,\"fY1NDC\":0.775000005960464,\"fX2NDC\":0.980000019073486,\"fY2NDC\":0.935000002384186,\"fBorderSize\":1,\"fInit\":1,\"fShadowColor\":1,\"fCornerRadius\":0,\"fOption\":\"brNDC\",\"fName\":\"stats\",\"fTextAngle\":0,\"fTextSize\":0,\"fTextAlign\":12,\"fTextColor\":1,\"fTextFont\":42,\"fLabel\":\"\",\"fLongest\":18,\"fMargin\":0.05,\"fLines\":{\"_typename\":\"TList\",\"name\":\"TList\",\"arr\":[{\"_typename\":\"TLatex\",\"fUniqueID\":0,\"fBits\":0,\"fName\":\"\",\"fTitle\":\"hist_NPV\",\"fTextAngle\":0,\"fTextSize\":0.0368,\"fTextAlign\":0,\"fTextColor\":0,\"fTextFont\":0,\"fX\":0,\"fY\":0,\"fLineColor\":1,\"fLineStyle\":1,\"fLineWidth\":2,\"fLimitFactorSize\":3,\"fOriginSize\":0.0368000008165836},{\"_typename\":\"TLatex\",\"fUniqueID\":0,\"fBits\":0,\"fName\":\"\",\"fTitle\":\"Entries = 15787  \",\"fTextAngle\":0,\"fTextSize\":0,\"fTextAlign\":0,\"fTextColor\":0,\"fTextFont\":0,\"fX\":0,\"fY\":0,\"fLineColor\":1,\"fLineStyle\":1,\"fLineWidth\":2,\"fLimitFactorSize\":3,\"fOriginSize\":0.04},{\"_typename\":\"TLatex\",\"fUniqueID\":0,\"fBits\":0,\"fName\":\"\",\"fTitle\":\"Mean  =  31.26\",\"fTextAngle\":0,\"fTextSize\":0,\"fTextAlign\":0,\"fTextColor\":0,\"fTextFont\":0,\"fX\":0,\"fY\":0,\"fLineColor\":1,\"fLineStyle\":1,\"fLineWidth\":2,\"fLimitFactorSize\":3,\"fOriginSize\":0.04},{\"_typename\":\"TLatex\",\"fUniqueID\":0,\"fBits\":0,\"fName\":\"\",\"fTitle\":\"Std Dev   =   12.6\",\"fTextAngle\":0,\"fTextSize\":0,\"fTextAlign\":0,\"fTextColor\":0,\"fTextFont\":0,\"fX\":0,\"fY\":0,\"fLineColor\":1,\"fLineStyle\":1,\"fLineWidth\":2,\"fLimitFactorSize\":3,\"fOriginSize\":0.04}],\"opt\":[\"\",\"\",\"\",\"\"]},\"fOptFit\":0,\"fOptStat\":1111,\"fFitFormat\":\"5.4g\",\"fStatFormat\":\"6.4g\",\"fParent\":{\"$ref\":3}}],\"opt\":[\"brNDC\"]},\"fBufferSize\":0,\"fBuffer\":[],\"fBinStatErrOpt\":0,\"fStatOverflows\":2,\"fArray\":[0,0,1,2,1,4,5,23,22,40,64,81,117,153,214,226,278,321,365,354,421,488,471,475,549,489,551,544,551,522,503,511,485,503,459,422,433,374,406,349,319,327,319,306,248,267,200,174,181,179,157,135,117,117,108,87,77,70,81,61,48,40,39,34,30,30,35,22,18,17,23,16,14,14,11,12,4,12,4,4,5,9,6,5,2,3,2,0,2,4,2,1,1,1,1,0,1,0,0,2,0,6]},{\"_typename\":\"TPaveText\",\"fUniqueID\":0,\"fBits\":9,\"fLineColor\":1,\"fLineStyle\":1,\"fLineWidth\":1,\"fFillColor\":0,\"fFillStyle\":0,\"fX1\":42.5629193522661,\"fY1\":607.477507597315,\"fX2\":57.4370806477339,\"fY2\":647.252821282712,\"fX1NDC\":0.440503355704698,\"fY1NDC\":0.940000003948808,\"fX2NDC\":0.559496644295302,\"fY2NDC\":0.995000004768372,\"fBorderSize\":0,\"fInit\":1,\"fShadowColor\":1,\"fCornerRadius\":0,\"fOption\":\"blNDC\",\"fName\":\"title\",\"fTextAngle\":0,\"fTextSize\":0,\"fTextAlign\":22,\"fTextColor\":1,\"fTextFont\":42,\"fLabel\":\"\",\"fLongest\":3,\"fMargin\":0.05,\"fLines\":{\"_typename\":\"TList\",\"name\":\"TList\",\"arr\":[{\"_typename\":\"TLatex\",\"fUniqueID\":0,\"fBits\":0,\"fName\":\"\",\"fTitle\":\"NPV\",\"fTextAngle\":0,\"fTextSize\":0,\"fTextAlign\":0,\"fTextColor\":0,\"fTextFont\":0,\"fX\":0,\"fY\":0,\"fLineColor\":1,\"fLineStyle\":1,\"fLineWidth\":2,\"fLimitFactorSize\":3,\"fOriginSize\":0.0467500016093254}],\"opt\":[\"\"]}},{\"_typename\":\"TStyle\",\"fUniqueID\":0,\"fBits\":0,\"fName\":\"Modern\",\"fTitle\":\"Modern Style\",\"fLineColor\":1,\"fLineStyle\":1,\"fLineWidth\":1,\"fFillColor\":19,\"fFillStyle\":1001,\"fMarkerColor\":1,\"fMarkerStyle\":1,\"fMarkerSize\":1,\"fTextAngle\":0,\"fTextSize\":0.05,\"fTextAlign\":11,\"fTextColor\":1,\"fTextFont\":62,\"fXaxis\":{\"_typename\":\"TAttAxis\",\"fNdivisions\":510,\"fAxisColor\":1,\"fLabelColor\":1,\"fLabelFont\":42,\"fLabelOffset\":0.005,\"fLabelSize\":0.035,\"fTickLength\":0.03,\"fTitleOffset\":1,\"fTitleSize\":0.035,\"fTitleColor\":1,\"fTitleFont\":42},\"fYaxis\":{\"_typename\":\"TAttAxis\",\"fNdivisions\":510,\"fAxisColor\":1,\"fLabelColor\":1,\"fLabelFont\":42,\"fLabelOffset\":0.005,\"fLabelSize\":0.035,\"fTickLength\":0.03,\"fTitleOffset\":0,\"fTitleSize\":0.035,\"fTitleColor\":1,\"fTitleFont\":42},\"fZaxis\":{\"_typename\":\"TAttAxis\",\"fNdivisions\":510,\"fAxisColor\":1,\"fLabelColor\":1,\"fLabelFont\":42,\"fLabelOffset\":0.005,\"fLabelSize\":0.035,\"fTickLength\":0.03,\"fTitleOffset\":1,\"fTitleSize\":0.035,\"fTitleColor\":1,\"fTitleFont\":42},\"fBarWidth\":1,\"fBarOffset\":0,\"fColorModelPS\":0,\"fDrawBorder\":0,\"fOptLogx\":0,\"fOptLogy\":0,\"fOptLogz\":0,\"fOptDate\":0,\"fOptStat\":1111,\"fOptTitle\":1,\"fOptFile\":0,\"fOptFit\":0,\"fShowEventStatus\":0,\"fShowEditor\":0,\"fShowToolBar\":0,\"fNumberContours\":20,\"fAttDate\":{\"_typename\":\"TAttText\",\"fTextAngle\":0,\"fTextSize\":0.025,\"fTextAlign\":11,\"fTextColor\":1,\"fTextFont\":62},\"fDateX\":0.01,\"fDateY\":0.01,\"fEndErrorSize\":2,\"fErrorX\":0.5,\"fFuncColor\":2,\"fFuncStyle\":1,\"fFuncWidth\":2,\"fGridColor\":0,\"fGridStyle\":3,\"fGridWidth\":1,\"fLegendBorderSize\":1,\"fLegendFillColor\":0,\"fLegendFont\":42,\"fLegendTextSize\":0,\"fHatchesLineWidth\":1,\"fHatchesSpacing\":1,\"fFrameFillColor\":0,\"fFrameLineColor\":1,\"fFrameFillStyle\":1001,\"fFrameLineStyle\":1,\"fFrameLineWidth\":1,\"fFrameBorderSize\":1,\"fFrameBorderMode\":0,\"fHistFillColor\":0,\"fHistLineColor\":602,\"fHistFillStyle\":1001,\"fHistLineStyle\":1,\"fHistLineWidth\":1,\"fHistMinimumZero\":false,\"fHistTopMargin\":0.05,\"fCanvasPreferGL\":false,\"fCanvasColor\":0,\"fCanvasBorderSize\":2,\"fCanvasBorderMode\":0,\"fCanvasDefH\":500,\"fCanvasDefW\":700,\"fCanvasDefX\":10,\"fCanvasDefY\":10,\"fPadColor\":0,\"fPadBorderSize\":2,\"fPadBorderMode\":0,\"fPadBottomMargin\":0.1,\"fPadTopMargin\":0.1,\"fPadLeftMargin\":0.1,\"fPadRightMargin\":0.1,\"fPadGridX\":false,\"fPadGridY\":false,\"fPadTickX\":0,\"fPadTickY\":0,\"fPaperSizeX\":20,\"fPaperSizeY\":26,\"fScreenFactor\":1,\"fStatColor\":0,\"fStatTextColor\":1,\"fStatBorderSize\":1,\"fStatFont\":42,\"fStatFontSize\":0,\"fStatStyle\":1001,\"fStatFormat\":\"6.4g\",\"fStatX\":0.98,\"fStatY\":0.935,\"fStatW\":0.2,\"fStatH\":0.16,\"fStripDecimals\":true,\"fTitleAlign\":23,\"fTitleColor\":0,\"fTitleTextColor\":1,\"fTitleBorderSize\":0,\"fTitleFont\":42,\"fTitleFontSize\":0.05,\"fTitleStyle\":0,\"fTitleX\":0.5,\"fTitleY\":0.995,\"fTitleW\":0,\"fTitleH\":0,\"fLegoInnerR\":0.5,\"fLineStyle\":[\"\",\"  \",\" 12 12\",\" 4 8\",\" 12 16 4 16\",\" 20 12 4 12\",\" 20 12 4 12 4 12 4 12\",\" 20 20\",\" 20 12 4 12 4 12\",\" 80 20\",\" 80 40 4 40\",\"  \",\"  \",\"  \",\"  \",\"  \",\"  \",\"  \",\"  \",\"  \",\"  \",\"  \",\"  \",\"  \",\"  \",\"  \",\"  \",\"  \",\"  \",\"  \"],\"fHeaderPS\":\"\",\"fTitlePS\":\"\",\"fFitFormat\":\"5.4g\",\"fPaintTextFormat\":\"g\",\"fLineScalePS\":3,\"fJoinLinePS\":0,\"fCapLinePS\":0,\"fTimeOffset\":788918400,\"fImageScaling\":1}],\"opt\":[\"\",\"\",\"blNDC\",\"\"]},\"fExecs\":null,\"fName\":\"canvas\",\"fTitle\":\"c_NPV\",\"fNumPaletteColor\":0,\"fNextPaletteColor\":0,\"fDISPLAY\":\"$DISPLAY\",\"fDoubleBuffer\":0,\"fRetained\":true,\"fXsizeUser\":0,\"fYsizeUser\":0,\"fXsizeReal\":20,\"fYsizeReal\":20,\"fWindowTopX\":0,\"fWindowTopY\":0,\"fWindowWidth\":0,\"fWindowHeight\":0,\"fCw\":596,\"fCh\":572,\"fCatt\":{\"_typename\":\"TAttCanvas\",\"fXBetween\":2,\"fYBetween\":2,\"fTitleFromTop\":1.2,\"fXdate\":0.2,\"fYdate\":0.3,\"fAdate\":1},\"kMoveOpaque\":true,\"kResizeOpaque\":true,\"fHighLightColor\":2,\"fBatch\":true,\"kShowEventStatus\":false,\"kAutoExec\":true,\"kMenuBar\":true});\n",
       "       Core.key_handling = false;\n",
       "       Core.draw(\"root_plot_1667863593798\", obj, \"\");\n",
       "     }\n",
       " );\n",
       "</script>\n"
      ],
      "text/plain": [
       "<IPython.core.display.HTML object>"
      ]
     },
     "metadata": {},
     "output_type": "display_data"
    }
   ],
   "source": [
    "#Draw the histogram and the canvas\n",
    "hist_npv.Draw()\n",
    "c.Draw()"
   ]
  },
  {
   "cell_type": "code",
   "execution_count": 9,
   "id": "promising-mouth",
   "metadata": {},
   "outputs": [
    {
     "name": "stderr",
     "output_type": "stream",
     "text": [
      "Info in <TCanvas::Print>: png file c_hist_MassFourLeptons.png has been created\n"
     ]
    },
    {
     "data": {
      "text/html": [
       "\n",
       "<div id=\"root_plot_1667863672212\"\n",
       "     style=\"width: 596px; height: 572px\">\n",
       "</div>\n",
       "<script src=\"/static/components/requirejs/require.js\" type=\"text/javascript\" charset=\"utf-8\"></script>\n",
       "<script>\n",
       " requirejs.config({\n",
       "     paths: {\n",
       "       'JSRootCore' : '/static/scripts/JSRootCore',\n",
       "     }\n",
       "   });\n",
       " require(['JSRootCore'],\n",
       "     function(Core) {\n",
       "       var obj = Core.JSONR_unref({\"_typename\":\"TCanvas\",\"fUniqueID\":0,\"fBits\":3342344,\"fLineColor\":1,\"fLineStyle\":1,\"fLineWidth\":1,\"fFillColor\":0,\"fFillStyle\":1001,\"fLeftMargin\":0.1,\"fRightMargin\":0.1,\"fBottomMargin\":0.1,\"fTopMargin\":0.1,\"fXfile\":2,\"fYfile\":2,\"fAfile\":1,\"fXstat\":0.99,\"fYstat\":0.99,\"fAstat\":2,\"fFrameFillColor\":0,\"fFrameLineColor\":1,\"fFrameFillStyle\":1001,\"fFrameLineStyle\":1,\"fFrameLineWidth\":1,\"fFrameBorderSize\":1,\"fFrameBorderMode\":0,\"fX1\":-62.5000046566132,\"fY1\":-4.33125032270329,\"fX2\":562.500004656613,\"fY2\":38.9812503227033,\"fXtoAbsPixelk\":59.600053552437,\"fXtoPixelk\":59.600053552437,\"fXtoPixel\":0.953599985790252,\"fYtoAbsPixelk\":514.800046590614,\"fYtoPixelk\":514.800046590614,\"fYtoPixel\":-13.2063490095593,\"fUtoAbsPixelk\":5e-5,\"fUtoPixelk\":5e-5,\"fUtoPixel\":596,\"fVtoAbsPixelk\":572.00005,\"fVtoPixelk\":572,\"fVtoPixel\":-572,\"fAbsPixeltoXk\":-62.5000046566132,\"fPixeltoXk\":-62.5000046566132,\"fPixeltoX\":1.04865773374702,\"fAbsPixeltoYk\":38.9812503227033,\"fPixeltoYk\":-4.33125032270329,\"fPixeltoY\":-0.075721154974487,\"fXlowNDC\":0,\"fYlowNDC\":0,\"fXUpNDC\":1,\"fYUpNDC\":1,\"fWNDC\":1,\"fHNDC\":1,\"fAbsXlowNDC\":0,\"fAbsYlowNDC\":0,\"fAbsWNDC\":1,\"fAbsHNDC\":1,\"fUxmin\":0,\"fUymin\":0,\"fUxmax\":500,\"fUymax\":34.65,\"fTheta\":30,\"fPhi\":30,\"fAspectRatio\":0,\"fNumber\":0,\"fTickx\":0,\"fTicky\":0,\"fLogx\":0,\"fLogy\":0,\"fLogz\":0,\"fPadPaint\":0,\"fCrosshair\":0,\"fCrosshairPos\":0,\"fBorderSize\":2,\"fBorderMode\":0,\"fModified\":false,\"fGridx\":false,\"fGridy\":false,\"fAbsCoord\":false,\"fEditable\":true,\"fFixedAspectRatio\":false,\"fPrimitives\":{\"_typename\":\"TList\",\"name\":\"TList\",\"arr\":[{\"_typename\":\"TFrame\",\"fUniqueID\":0,\"fBits\":8,\"fLineColor\":1,\"fLineStyle\":1,\"fLineWidth\":1,\"fFillColor\":0,\"fFillStyle\":1001,\"fX1\":0,\"fY1\":0,\"fX2\":500,\"fY2\":34.65,\"fBorderSize\":1,\"fBorderMode\":0},{\"_typename\":\"TH1F\",\"fUniqueID\":0,\"fBits\":8,\"fName\":\"hist_massfourleptons\",\"fTitle\":\"\",\"fLineColor\":602,\"fLineStyle\":1,\"fLineWidth\":1,\"fFillColor\":0,\"fFillStyle\":1001,\"fMarkerColor\":1,\"fMarkerStyle\":1,\"fMarkerSize\":1,\"fNcells\":5002,\"fXaxis\":{\"_typename\":\"TAxis\",\"fUniqueID\":0,\"fBits\":0,\"fName\":\"xaxis\",\"fTitle\":\"Four Lepton Invariant Mass\",\"fNdivisions\":510,\"fAxisColor\":1,\"fLabelColor\":1,\"fLabelFont\":42,\"fLabelOffset\":0.005,\"fLabelSize\":0.035,\"fTickLength\":0.03,\"fTitleOffset\":1,\"fTitleSize\":0.035,\"fTitleColor\":1,\"fTitleFont\":42,\"fNbins\":5000,\"fXmin\":0,\"fXmax\":500,\"fXbins\":[],\"fFirst\":0,\"fLast\":0,\"fBits2\":0,\"fTimeDisplay\":false,\"fTimeFormat\":\"\",\"fLabels\":null,\"fModLabs\":null},\"fYaxis\":{\"_typename\":\"TAxis\",\"fUniqueID\":0,\"fBits\":0,\"fName\":\"yaxis\",\"fTitle\":\"Events\",\"fNdivisions\":510,\"fAxisColor\":1,\"fLabelColor\":1,\"fLabelFont\":42,\"fLabelOffset\":0.005,\"fLabelSize\":0.035,\"fTickLength\":0.03,\"fTitleOffset\":0,\"fTitleSize\":0.035,\"fTitleColor\":1,\"fTitleFont\":42,\"fNbins\":1,\"fXmin\":0,\"fXmax\":1,\"fXbins\":[],\"fFirst\":0,\"fLast\":0,\"fBits2\":0,\"fTimeDisplay\":false,\"fTimeFormat\":\"\",\"fLabels\":null,\"fModLabs\":null},\"fZaxis\":{\"_typename\":\"TAxis\",\"fUniqueID\":0,\"fBits\":0,\"fName\":\"zaxis\",\"fTitle\":\"\",\"fNdivisions\":510,\"fAxisColor\":1,\"fLabelColor\":1,\"fLabelFont\":42,\"fLabelOffset\":0.005,\"fLabelSize\":0.035,\"fTickLength\":0.03,\"fTitleOffset\":1,\"fTitleSize\":0.035,\"fTitleColor\":1,\"fTitleFont\":42,\"fNbins\":1,\"fXmin\":0,\"fXmax\":1,\"fXbins\":[],\"fFirst\":0,\"fLast\":0,\"fBits2\":0,\"fTimeDisplay\":false,\"fTimeFormat\":\"\",\"fLabels\":null,\"fModLabs\":null},\"fBarOffset\":0,\"fBarWidth\":1000,\"fEntries\":15787,\"fTsumw\":15496,\"fTsumw2\":15496,\"fTsumwx\":2635472.25065256,\"fTsumwx2\":588428088.972309,\"fMaximum\":-1111,\"fMinimum\":-1111,\"fNormFactor\":0,\"fContour\":[],\"fSumw2\":[],\"fOption\":\"\",\"fFunctions\":{\"_typename\":\"TList\",\"name\":\"TList\",\"arr\":[{\"_typename\":\"TPaveStats\",\"fUniqueID\":0,\"fBits\":9,\"fLineColor\":1,\"fLineStyle\":1,\"fLineWidth\":1,\"fFillColor\":0,\"fFillStyle\":1001,\"fX1\":425.000012665987,\"fY1\":29.2359379356494,\"fX2\":550.000016391278,\"fY2\":36.1659378840169,\"fX1NDC\":0.780000016093254,\"fY1NDC\":0.775000005960464,\"fX2NDC\":0.980000019073486,\"fY2NDC\":0.935000002384186,\"fBorderSize\":1,\"fInit\":1,\"fShadowColor\":1,\"fCornerRadius\":0,\"fOption\":\"brNDC\",\"fName\":\"stats\",\"fTextAngle\":0,\"fTextSize\":0,\"fTextAlign\":12,\"fTextColor\":1,\"fTextFont\":42,\"fLabel\":\"\",\"fLongest\":20,\"fMargin\":0.05,\"fLines\":{\"_typename\":\"TList\",\"name\":\"TList\",\"arr\":[{\"_typename\":\"TLatex\",\"fUniqueID\":0,\"fBits\":0,\"fName\":\"\",\"fTitle\":\"hist_massfourleptons\",\"fTextAngle\":0,\"fTextSize\":0.0368,\"fTextAlign\":0,\"fTextColor\":0,\"fTextFont\":0,\"fX\":0,\"fY\":0,\"fLineColor\":1,\"fLineStyle\":1,\"fLineWidth\":2,\"fLimitFactorSize\":3,\"fOriginSize\":0.0368000008165836},{\"_typename\":\"TLatex\",\"fUniqueID\":0,\"fBits\":0,\"fName\":\"\",\"fTitle\":\"Entries = 15787  \",\"fTextAngle\":0,\"fTextSize\":0,\"fTextAlign\":0,\"fTextColor\":0,\"fTextFont\":0,\"fX\":0,\"fY\":0,\"fLineColor\":1,\"fLineStyle\":1,\"fLineWidth\":2,\"fLimitFactorSize\":3,\"fOriginSize\":0.04},{\"_typename\":\"TLatex\",\"fUniqueID\":0,\"fBits\":0,\"fName\":\"\",\"fTitle\":\"Mean  =  170.1\",\"fTextAngle\":0,\"fTextSize\":0,\"fTextAlign\":0,\"fTextColor\":0,\"fTextFont\":0,\"fX\":0,\"fY\":0,\"fLineColor\":1,\"fLineStyle\":1,\"fLineWidth\":2,\"fLimitFactorSize\":3,\"fOriginSize\":0.04},{\"_typename\":\"TLatex\",\"fUniqueID\":0,\"fBits\":0,\"fName\":\"\",\"fTitle\":\"Std Dev   =  95.12\",\"fTextAngle\":0,\"fTextSize\":0,\"fTextAlign\":0,\"fTextColor\":0,\"fTextFont\":0,\"fX\":0,\"fY\":0,\"fLineColor\":1,\"fLineStyle\":1,\"fLineWidth\":2,\"fLimitFactorSize\":3,\"fOriginSize\":0.04}],\"opt\":[\"\",\"\",\"\",\"\"]},\"fOptFit\":0,\"fOptStat\":1111,\"fFitFormat\":\"5.4g\",\"fStatFormat\":\"6.4g\",\"fParent\":{\"$ref\":3}}],\"opt\":[\"brNDC\"]},\"fBufferSize\":0,\"fBuffer\":[],\"fBinStatErrOpt\":0,\"fStatOverflows\":2,\"fArray\":[0,0,0,0,0,0,0,1,0,1,0,0,0,0,0,3,2,1,1,2,2,1,1,4,1,4,5,2,8,6,6,6,4,6,5,4,6,5,4,10,7,4,7,5,4,7,9,9,10,7,6,8,9,13,8,10,13,15,17,19,16,13,26,15,21,23,26,18,20,17,16,9,16,17,16,12,16,10,10,13,10,11,11,8,9,8,11,11,5,9,8,11,12,9,8,5,6,9,9,9,7,6,4,4,4,6,4,7,7,4,4,7,4,2,3,5,9,7,4,11,5,2,5,2,3,3,1,5,7,8,3,3,5,2,7,5,7,2,2,7,9,2,4,10,3,3,4,4,6,6,10,5,1,3,4,6,3,6,3,4,5,8,6,4,2,7,5,2,4,3,5,4,4,4,4,3,3,5,7,6,2,0,3,3,4,4,3,5,3,3,5,3,5,2,3,2,3,0,1,2,1,2,1,0,3,3,2,4,0,2,3,3,2,1,2,3,2,1,1,1,1,2,0,1,0,1,0,2,0,0,0,2,2,3,2,0,0,1,1,3,2,1,2,1,0,1,0,2,1,1,1,2,2,0,2,2,2,1,2,0,3,0,0,1,2,0,0,0,0,1,1,0,1,1,0,0,0,0,2,3,1,0,1,1,1,0,3,0,2,0,0,0,0,2,1,0,1,0,1,1,0,1,0,1,2,1,0,0,0,2,0,0,1,2,1,1,0,0,1,0,1,1,0,0,1,0,1,1,1,0,0,0,1,0,2,1,0,0,0,0,0,0,0,1,2,3,0,1,1,0,0,0,1,0,1,0,0,0,0,0,0,0,1,1,0,0,1,0,0,0,1,0,0,1,0,1,0,0,1,0,1,1,0,1,2,0,1,0,0,0,0,0,2,1,1,1,0,0,0,1,0,0,0,0,0,2,0,2,1,0,0,1,0,0,0,0,0,1,1,0,1,1,0,0,1,0,1,0,0,0,1,1,1,0,0,0,0,0,2,0,1,2,0,1,1,1,0,1,1,0,0,3,2,1,1,1,2,0,1,0,0,1,1,0,2,0,0,0,0,0,1,0,0,1,0,0,0,0,0,2,0,1,0,0,1,1,0,1,0,1,0,0,0,0,0,1,0,2,0,2,1,1,1,0,0,0,1,1,2,0,1,1,1,0,0,0,0,0,1,1,1,2,2,3,1,1,1,0,3,1,0,1,1,0,1,1,0,0,0,3,0,0,1,1,1,1,2,1,2,0,0,2,1,2,1,1,0,0,0,0,1,1,1,0,2,0,1,2,1,5,1,0,1,0,0,0,4,0,2,1,0,1,2,1,2,0,0,1,2,2,1,4,2,0,1,0,0,0,1,0,1,1,1,1,2,2,1,0,2,2,2,0,0,1,0,2,2,2,1,2,0,2,2,2,0,1,3,1,2,1,0,2,2,0,2,2,1,0,4,1,3,4,1,0,0,0,0,0,2,2,1,0,2,1,2,1,3,0,2,0,0,1,2,1,0,2,1,0,3,4,3,0,3,2,1,0,2,2,0,1,0,3,0,1,1,0,2,1,1,0,1,1,2,3,2,1,2,0,2,2,4,0,1,2,3,2,3,2,1,2,1,1,0,2,2,3,0,0,2,0,2,1,1,1,0,4,2,1,2,3,0,0,2,4,2,2,3,1,2,0,0,2,1,1,1,1,1,2,0,0,2,0,2,2,3,1,1,1,3,2,0,2,4,2,1,2,2,2,2,5,3,2,1,5,3,0,1,2,2,2,2,1,3,1,5,2,2,2,1,2,3,2,3,2,2,1,2,2,1,5,2,2,3,5,0,0,3,1,1,2,3,6,1,4,2,3,4,3,1,1,4,6,0,2,0,3,1,4,6,5,7,2,4,7,1,1,2,7,4,2,2,4,5,0,6,1,2,3,2,3,3,3,6,5,10,6,3,5,4,4,3,4,5,2,9,10,3,4,3,8,7,8,18,8,14,7,13,6,15,10,9,13,13,9,16,13,11,8,15,16,18,7,14,10,15,23,18,18,24,26,27,22,16,19,21,33,21,20,28,26,25,24,31,22,29,19,24,22,19,29,24,20,17,17,26,13,14,23,14,16,10,9,9,12,8,13,7,7,10,11,9,7,11,9,9,5,6,9,4,11,9,6,6,10,3,4,5,4,9,8,6,7,6,5,5,6,4,7,5,2,9,8,3,2,6,5,3,10,4,7,5,4,4,8,7,3,3,9,5,6,5,1,1,7,7,5,1,5,7,8,6,2,4,4,3,4,9,6,1,4,4,9,6,5,6,3,2,12,7,3,8,5,2,2,4,0,9,1,6,5,4,8,4,6,6,6,6,5,4,7,2,1,5,8,1,6,3,6,4,5,4,3,3,3,6,7,8,3,6,4,3,3,8,5,7,3,4,3,2,5,5,3,6,7,6,4,4,3,9,6,5,6,6,4,5,4,4,4,10,3,4,6,4,3,5,6,3,5,4,3,2,6,3,4,5,4,3,3,4,3,9,3,6,6,7,10,6,8,6,7,7,6,8,7,1,2,4,3,5,10,6,4,5,5,4,4,8,5,3,3,8,3,5,6,8,5,8,4,6,4,4,8,2,7,4,3,6,7,6,10,8,8,7,4,5,8,11,4,8,6,5,8,3,4,6,12,8,8,7,8,6,3,12,1,3,8,3,3,6,12,8,10,5,6,11,7,7,7,3,9,5,13,7,13,5,9,10,3,8,6,8,5,7,8,10,9,9,12,10,5,11,8,5,5,12,8,7,5,8,9,13,9,10,13,15,19,7,10,8,7,14,13,15,10,7,6,9,11,16,11,6,9,10,11,12,11,12,16,9,7,12,7,6,9,12,11,13,4,16,9,6,9,8,11,16,10,7,7,9,12,6,3,5,8,5,8,14,7,6,9,7,6,4,10,7,12,11,13,3,9,5,7,7,7,11,10,5,7,6,8,7,10,8,10,7,11,8,9,11,10,12,9,5,11,7,11,6,7,8,7,5,10,9,7,7,10,13,8,5,7,6,6,12,8,6,11,10,9,8,8,10,13,9,7,9,4,10,8,9,3,7,6,12,7,10,8,8,7,8,10,5,11,3,7,11,9,6,8,4,7,8,10,13,8,11,7,10,12,12,4,6,8,6,8,6,5,8,7,5,6,10,10,3,7,10,8,10,7,9,10,8,14,13,10,9,6,9,4,10,8,12,10,8,4,5,9,7,16,7,3,13,15,11,8,4,3,3,9,11,5,13,6,7,10,9,7,9,14,8,10,6,2,8,7,12,6,8,7,9,9,8,6,6,12,9,6,4,7,5,9,6,7,5,6,11,8,8,10,6,8,6,4,8,5,9,2,9,6,8,7,9,8,7,2,8,7,8,15,7,8,3,7,9,5,10,13,7,8,9,8,3,11,10,11,12,8,10,5,8,5,3,4,5,9,4,8,8,2,14,10,8,6,6,5,5,5,9,5,11,7,1,3,5,11,13,5,5,1,6,8,8,7,2,3,4,12,2,5,5,5,11,10,5,5,7,6,7,9,9,5,6,5,8,3,6,9,9,5,3,5,2,5,5,11,7,10,4,2,8,8,2,4,4,9,7,8,4,3,3,7,7,4,10,5,7,3,6,6,9,4,3,3,6,4,7,5,4,2,7,6,9,3,7,6,5,5,4,9,3,3,6,7,9,10,7,7,6,9,8,7,7,8,5,5,3,7,4,6,3,7,6,2,8,5,5,3,6,2,5,9,5,3,4,2,7,7,4,6,1,4,4,9,8,8,9,5,7,6,6,9,6,5,5,6,8,3,8,8,6,8,2,6,6,5,1,4,7,13,5,6,5,9,9,8,5,8,4,8,6,2,3,2,6,6,6,2,5,4,5,5,3,7,5,9,7,4,9,3,8,3,8,7,2,2,7,6,4,1,2,6,4,5,2,8,2,2,7,6,9,3,5,7,2,2,4,6,5,7,6,7,3,8,5,3,4,5,8,4,9,7,9,2,4,8,6,7,6,2,6,5,6,6,4,6,5,3,4,3,4,2,5,6,5,6,10,2,5,8,7,8,5,4,6,9,8,3,8,10,8,3,4,1,6,6,2,7,7,6,4,7,6,5,5,6,8,7,7,5,6,8,8,8,12,8,8,4,6,9,9,4,6,1,9,1,5,2,5,6,9,6,7,4,6,7,8,7,11,5,2,10,7,4,5,4,7,9,10,4,7,13,4,4,5,6,12,5,8,8,8,6,9,5,7,8,7,8,9,8,11,6,4,6,8,6,6,3,6,8,7,9,2,10,1,8,6,7,10,7,11,4,8,3,4,9,4,4,6,6,8,7,8,7,7,5,8,3,13,5,10,9,14,5,9,5,9,5,10,6,10,9,8,9,8,9,3,9,4,10,9,7,9,9,8,3,7,4,4,10,12,7,4,4,8,6,7,4,3,6,9,7,7,4,7,1,7,11,5,4,10,8,5,6,8,8,10,8,10,6,12,5,8,8,8,6,4,6,7,3,6,6,12,5,8,7,6,4,6,7,9,6,5,6,10,3,7,6,11,10,12,6,6,5,6,7,6,4,5,6,11,3,3,8,9,11,9,6,5,5,5,7,7,7,7,4,8,3,7,3,5,7,6,0,6,7,4,4,10,4,2,7,6,3,7,8,10,4,11,8,7,8,4,8,11,7,6,7,4,4,11,9,7,7,6,9,8,3,4,4,4,4,10,5,6,4,7,8,7,9,7,5,9,10,7,5,6,4,2,8,4,6,9,9,6,8,4,10,5,6,6,7,3,5,4,7,6,2,7,7,3,9,6,8,4,7,7,2,8,2,4,6,10,4,6,5,6,4,4,5,5,1,4,11,5,6,2,4,8,1,7,4,3,6,7,7,7,8,5,4,7,5,4,3,5,7,7,3,3,2,4,4,8,6,3,3,6,1,6,3,5,4,4,2,9,3,3,4,6,4,0,3,2,3,6,4,4,10,10,6,3,7,4,4,10,4,6,4,1,3,5,5,5,7,5,9,3,3,4,9,7,3,8,2,5,9,10,3,4,3,8,4,4,0,4,3,7,2,7,4,5,3,6,5,4,8,4,6,3,3,4,4,6,6,1,6,6,3,4,7,6,4,2,5,3,3,5,6,5,3,6,4,5,5,5,3,5,5,8,6,5,8,6,3,5,4,5,3,3,8,6,5,7,8,3,5,6,10,8,6,1,4,5,7,7,6,5,4,4,4,3,3,3,3,6,5,2,3,3,3,6,3,5,5,6,2,2,2,6,3,6,1,6,6,10,5,3,3,5,6,4,2,2,5,7,2,5,4,3,2,3,5,4,4,4,4,6,5,4,4,3,5,3,5,2,4,2,5,5,5,6,7,8,4,11,3,4,4,5,2,4,3,4,3,5,4,2,4,2,4,6,1,4,8,2,1,4,2,5,2,5,2,5,6,4,4,4,3,3,4,8,4,4,4,7,7,3,1,4,4,7,4,2,3,4,3,4,6,6,1,4,6,5,3,2,4,4,2,3,3,0,3,1,2,4,3,2,3,6,1,1,5,2,4,4,1,5,5,1,2,4,3,3,2,4,5,5,9,1,1,1,6,5,2,1,5,3,4,1,2,1,2,3,1,4,8,2,4,6,3,3,5,3,2,2,1,8,6,2,4,2,3,4,1,2,1,6,5,3,5,3,5,2,5,4,0,1,5,6,2,3,1,5,4,4,2,6,7,4,5,3,1,3,4,1,1,3,3,1,5,4,3,7,6,3,4,2,1,3,3,1,7,1,2,5,3,0,1,3,3,4,2,6,5,3,0,4,1,3,3,4,8,3,3,1,2,2,2,4,8,2,2,1,1,4,1,4,3,4,3,1,2,3,3,3,5,6,6,3,1,3,0,2,1,5,4,5,1,2,2,1,9,3,4,3,2,2,3,4,3,4,7,2,1,5,3,4,3,1,6,1,4,3,4,3,2,4,2,3,1,4,1,1,3,5,8,4,5,0,3,3,2,2,3,4,5,8,0,3,1,3,1,3,4,0,2,0,3,3,4,2,9,3,2,2,5,1,0,3,1,7,4,4,2,4,3,1,3,2,1,2,4,1,4,2,3,1,1,1,2,5,4,4,2,2,1,3,6,5,0,3,4,2,5,2,1,3,2,1,4,3,2,2,3,4,3,2,1,2,0,2,3,6,2,3,1,5,3,4,3,2,3,1,3,1,1,4,2,3,1,1,3,3,2,2,2,1,3,4,4,0,3,1,4,3,4,1,2,1,3,5,5,6,0,2,2,1,2,2,3,3,4,2,3,4,2,1,5,6,5,1,5,4,1,2,3,3,2,3,2,3,2,3,3,5,4,4,2,0,5,2,4,3,4,3,4,1,3,5,2,3,0,0,3,2,1,0,2,2,1,2,3,3,3,0,2,1,3,3,3,2,1,3,1,0,3,0,1,1,0,0,1,3,1,2,3,3,1,3,1,2,0,3,4,2,1,2,2,2,3,3,4,3,2,3,0,1,2,3,1,5,8,6,2,4,1,3,2,1,1,3,4,2,0,2,5,1,1,1,1,2,2,5,1,2,2,2,1,0,3,3,3,0,2,1,0,2,2,1,2,1,4,3,1,2,2,6,2,2,3,2,3,1,4,3,2,2,2,3,1,0,2,0,1,4,1,1,1,4,5,0,0,1,3,2,3,3,3,3,3,4,1,4,2,1,1,1,0,1,0,1,3,0,2,2,1,1,0,1,4,2,1,2,1,2,0,1,1,1,2,2,2,1,2,0,2,2,1,1,3,2,2,2,0,0,2,5,0,2,0,0,2,5,3,5,0,3,2,1,2,1,0,2,2,3,2,4,0,1,2,2,1,3,2,0,4,1,1,0,2,1,4,2,0,0,1,3,3,0,2,1,3,0,2,0,2,1,0,1,2,5,3,2,1,2,3,3,2,3,2,5,1,1,5,2,1,0,2,0,3,2,1,0,2,1,1,1,2,0,0,2,2,2,2,1,2,1,3,2,1,0,1,1,2,1,2,1,1,2,0,2,2,0,1,0,3,1,2,3,3,5,2,1,2,2,3,2,0,2,1,2,0,0,0,4,2,1,1,2,3,0,4,1,0,1,5,5,1,0,1,2,2,0,1,0,2,0,1,1,4,3,2,0,0,1,1,2,2,2,1,1,3,2,0,1,1,2,1,2,1,0,0,0,1,2,0,0,1,2,3,1,0,1,6,3,1,2,1,1,1,3,0,1,0,1,3,0,0,0,3,1,0,0,4,1,1,2,2,1,2,3,2,1,1,0,2,1,2,3,0,3,1,1,2,2,2,3,0,1,1,0,2,1,2,0,0,1,1,1,0,2,1,2,1,3,0,2,2,0,0,1,0,1,0,1,3,1,1,2,2,1,1,0,1,1,1,4,2,0,1,1,2,1,2,2,2,0,1,1,0,1,0,2,1,0,0,0,0,0,1,1,0,2,0,2,2,1,0,0,2,0,0,0,3,2,3,3,3,3,2,0,2,0,1,1,1,1,0,0,0,0,3,4,1,2,1,1,0,3,0,1,2,1,3,0,1,2,0,1,1,4,0,3,2,0,0,1,3,1,2,1,0,0,1,2,3,0,3,1,1,2,0,1,0,4,0,2,4,1,0,0,0,1,1,0,0,0,1,1,2,1,2,0,0,2,2,0,0,0,0,2,0,2,2,1,4,2,2,1,1,1,1,0,3,2,1,0,1,2,2,1,1,3,1,1,2,1,1,2,0,0,0,3,0,1,1,0,0,4,0,0,1,2,1,2,2,1,0,1,2,1,2,3,1,1,3,4,0,1,0,3,0,1,3,0,1,0,0,1,1,2,2,0,0,1,1,1,2,0,1,2,0,2,2,2,2,2,1,1,1,1,0,2,0,2,0,2,0,1,0,2,1,0,1,0,0,1,2,0,1,1,1,1,1,1,3,1,1,1,0,1,2,2,2,2,0,1,0,1,2,2,1,2,1,0,0,2,1,2,3,2,2,0,3,4,0,0,0,1,0,0,2,2,2,0,0,1,3,2,2,2,1,0,1,0,0,0,0,1,2,1,1,1,0,1,0,0,4,2,1,1,1,1,2,0,1,3,3,2,0,1,0,0,0,1,1,3,1,1,0,1,1,0,3,1,1,1,1,0,0,0,3,2,2,1,1,2,1,1,1,0,0,1,0,1,1,2,1,0,1,0,2,0,0,0,0,0,0,1,0,1,2,0,0,1,0,2,0,1,2,2,2,1,1,2,3,2,1,1,0,0,1,0,0,1,0,2,2,1,0,0,0,1,0,2,1,2,1,1,0,2,1,2,1,1,0,3,2,0,1,0,0,0,2,1,2,2,0,2,1,0,0,1,0,2,1,2,0,0,1,2,1,1,0,0,2,1,0,0,1,0,0,0,0,1,0,0,0,1,2,0,2,1,2,0,0,0,2,0,0,1,3,0,1,0,1,1,0,0,2,1,1,0,3,0,0,1,1,0,0,0,2,0,0,1,1,0,1,1,1,0,0,1,1,1,0,0,1,0,1,0,0,1,1,0,0,1,0,2,2,4,1,0,1,1,0,0,3,0,0,0,2,0,3,2,0,1,2,0,0,0,0,0,0,0,0,1,1,1,1,1,1,0,0,0,3,1,0,1,1,0,0,0,1,0,0,0,0,1,2,1,0,0,2,0,0,1,0,1,3,1,1,1,2,1,0,0,0,1,1,2,1,0,0,0,1,1,0,0,0,1,0,0,1,0,0,0,0,1,1,0,1,1,0,1,0,0,0,1,0,0,0,0,2,1,1,1,0,1,1,0,0,0,0,0,0,1,0,0,1,1,0,1,0,0,0,0,1,1,0,0,1,0,0,0,2,1,0,1,0,0,0,0,0,0,3,0,0,0,0,0,0,2,0,0,3,0,0,0,2,0,0,1,0,2,0,0,1,0,0,0,1,1,1,2,1,1,0,0,1,0,0,0,0,0,0,0,1,0,1,0,1,1,0,1,0,2,1,2,1,0,0,3,0,1,0,0,1,0,1,1,1,1,0,0,0,0,0,0,0,2,2,1,0,2,0,0,1,0,1,0,2,0,0,0,0,0,0,0,1,2,1,0,0,0,1,1,1,1,2,0,0,1,0,0,0,0,1,1,0,2,0,0,1,0,0,0,1,0,0,0,0,1,0,1,0,0,1,1,0,0,1,0,0,1,3,1,0,0,1,1,0,0,0,2,0,1,2,0,0,0,0,0,0,0,2,1,1,0,0,0,2,1,0,0,0,1,1,1,0,0,0,2,0,0,2,0,3,0,0,1,1,0,0,1,0,0,2,1,0,0,0,1,0,0,2,0,1,0,1,0,1,1,1,0,0,0,1,0,1,0,0,1,0,0,0,0,0,0,0,0,1,1,0,0,0,0,0,0,0,0,1,2,1,0,2,0,0,1,1,0,1,0,0,0,0,0,2,0,1,0,1,0,1,1,0,1,0,0,0,0,0,1,1,0,1,0,0,0,1,1,0,0,0,0,0,0,2,0,1,0,1,1,0,0,0,1,1,0,0,2,1,1,1,0,0,1,0,0,2,0,1,1,1,1,1,1,0,1,2,1,0,0,2,0,0,0,1,0,0,0,1,2,0,0,0,1,0,0,0,2,0,1,1,0,0,0,0,0,0,1,0,1,0,1,0,0,0,2,0,0,1,5,0,0,2,3,0,0,1,0,0,0,1,0,0,0,0,0,0,0,1,1,0,2,0,0,2,0,1,0,0,0,2,1,3,0,2,0,1,1,1,1,1,0,1,0,1,0,0,0,0,0,0,1,2,1,1,0,0,1,0,0,0,0,1,2,0,4,0,0,0,0,0,0,0,0,1,0,1,1,0,0,0,0,1,1,0,0,0,0,0,0,0,0,2,1,1,1,0,1,0,0,0,1,0,0,0,0,0,0,0,0,1,0,1,0,0,0,0,0,0,1,0,1,0,1,0,1,1,0,2,0,1,1,0,0,0,0,1,0,0,2,0,0,0,1,3,2,0,0,0,0,1,0,0,0,0,0,1,0,0,1,1,0,1,0,0,2,1,0,0,1,0,0,0,0,1,0,0,1,1,0,0,1,0,0,0,1,1,0,0,0,0,0,0,1,1,0,0,1,0,0,0,0,0,1,1,0,1,0,0,0,2,1,0,0,0,0,0,0,0,0,0,0,1,0,0,0,0,1,1,0,0,1,0,0,0,0,1,0,1,0,1,0,0,0,0,0,0,0,1,1,0,0,0,0,0,1,1,0,0,0,2,0,0,1,0,0,1,0,0,1,1,0,0,0,0,1,0,1,0,0,0,0,0,0,0,0,0,0,0,0,1,1,0,0,0,1,1,1,0,0,0,0,0,1,1,0,0,0,0,0,1,0,0,0,1,1,0,0,1,0,0,0,1,0,0,0,0,2,0,0,0,1,0,0,0,0,0,0,0,0,0,0,0,2,0,1,0,0,0,1,0,0,0,0,1,1,0,1,0,0,0,0,1,0,0,0,0,2,1,0,0,1,0,0,1,0,0,0,0,0,0,1,0,0,1,0,1,0,0,0,0,0,0,1,0,0,0,0,1,1,0,1,1,1,0,0,1,0,0,0,0,0,0,0,1,1,0,0,0,0,0,0,1,0,0,0,0,1,0,0,0,0,0,0,0,0,1,0,0,2,1,0,0,0,0,0,0,0,0,0,0,0,0,0,0,0,0,0,2,0,0,0,0,0,0,0,0,0,1,1,2,0,0,1,1,0,0,0,0,0,0,0,0,0,0,0,0,0,0,1,1,0,0,0,0,0,0,0,0,0,0,0,1,2,0,0,0,0,0,0,0,0,0,1,0,0,0,0,0,0,0,1,0,0,0,1,1,0,0,1,0,0,1,0,0,1,1,0,0,0,0,0,1,0,0,0,0,0,0,0,1,0,0,1,0,0,0,0,0,0,0,1,0,0,0,2,0,0,1,0,0,0,0,0,0,1,0,0,2,0,0,0,0,0,0,0,0,0,0,0,0,0,1,0,0,0,0,0,0,0,0,0,2,1,0,0,0,0,0,0,0,0,0,1,1,0,0,1,1,0,0,0,1,0,0,1,0,0,0,1,0,1,0,0,0,0,0,1,1,0,0,0,0,0,0,0,0,0,0,2,0,1,0,0,0,0,1,0,0,0,0,2,0,0,1,0,0,0,0,0,0,0,0,0,0,0,0,1,0,0,0,0,0,1,0,1,0,0,0,0,0,0,0,0,0,0,0,0,1,0,291]},{\"_typename\":\"TStyle\",\"fUniqueID\":0,\"fBits\":0,\"fName\":\"Modern\",\"fTitle\":\"Modern Style\",\"fLineColor\":1,\"fLineStyle\":1,\"fLineWidth\":1,\"fFillColor\":19,\"fFillStyle\":1001,\"fMarkerColor\":1,\"fMarkerStyle\":1,\"fMarkerSize\":1,\"fTextAngle\":0,\"fTextSize\":0.05,\"fTextAlign\":11,\"fTextColor\":1,\"fTextFont\":62,\"fXaxis\":{\"_typename\":\"TAttAxis\",\"fNdivisions\":510,\"fAxisColor\":1,\"fLabelColor\":1,\"fLabelFont\":42,\"fLabelOffset\":0.005,\"fLabelSize\":0.035,\"fTickLength\":0.03,\"fTitleOffset\":1,\"fTitleSize\":0.035,\"fTitleColor\":1,\"fTitleFont\":42},\"fYaxis\":{\"_typename\":\"TAttAxis\",\"fNdivisions\":510,\"fAxisColor\":1,\"fLabelColor\":1,\"fLabelFont\":42,\"fLabelOffset\":0.005,\"fLabelSize\":0.035,\"fTickLength\":0.03,\"fTitleOffset\":0,\"fTitleSize\":0.035,\"fTitleColor\":1,\"fTitleFont\":42},\"fZaxis\":{\"_typename\":\"TAttAxis\",\"fNdivisions\":510,\"fAxisColor\":1,\"fLabelColor\":1,\"fLabelFont\":42,\"fLabelOffset\":0.005,\"fLabelSize\":0.035,\"fTickLength\":0.03,\"fTitleOffset\":1,\"fTitleSize\":0.035,\"fTitleColor\":1,\"fTitleFont\":42},\"fBarWidth\":1,\"fBarOffset\":0,\"fColorModelPS\":0,\"fDrawBorder\":0,\"fOptLogx\":0,\"fOptLogy\":0,\"fOptLogz\":0,\"fOptDate\":0,\"fOptStat\":1111,\"fOptTitle\":1,\"fOptFile\":0,\"fOptFit\":0,\"fShowEventStatus\":0,\"fShowEditor\":0,\"fShowToolBar\":0,\"fNumberContours\":20,\"fAttDate\":{\"_typename\":\"TAttText\",\"fTextAngle\":0,\"fTextSize\":0.025,\"fTextAlign\":11,\"fTextColor\":1,\"fTextFont\":62},\"fDateX\":0.01,\"fDateY\":0.01,\"fEndErrorSize\":2,\"fErrorX\":0.5,\"fFuncColor\":2,\"fFuncStyle\":1,\"fFuncWidth\":2,\"fGridColor\":0,\"fGridStyle\":3,\"fGridWidth\":1,\"fLegendBorderSize\":1,\"fLegendFillColor\":0,\"fLegendFont\":42,\"fLegendTextSize\":0,\"fHatchesLineWidth\":1,\"fHatchesSpacing\":1,\"fFrameFillColor\":0,\"fFrameLineColor\":1,\"fFrameFillStyle\":1001,\"fFrameLineStyle\":1,\"fFrameLineWidth\":1,\"fFrameBorderSize\":1,\"fFrameBorderMode\":0,\"fHistFillColor\":0,\"fHistLineColor\":602,\"fHistFillStyle\":1001,\"fHistLineStyle\":1,\"fHistLineWidth\":1,\"fHistMinimumZero\":false,\"fHistTopMargin\":0.05,\"fCanvasPreferGL\":false,\"fCanvasColor\":0,\"fCanvasBorderSize\":2,\"fCanvasBorderMode\":0,\"fCanvasDefH\":500,\"fCanvasDefW\":700,\"fCanvasDefX\":10,\"fCanvasDefY\":10,\"fPadColor\":0,\"fPadBorderSize\":2,\"fPadBorderMode\":0,\"fPadBottomMargin\":0.1,\"fPadTopMargin\":0.1,\"fPadLeftMargin\":0.1,\"fPadRightMargin\":0.1,\"fPadGridX\":false,\"fPadGridY\":false,\"fPadTickX\":0,\"fPadTickY\":0,\"fPaperSizeX\":20,\"fPaperSizeY\":26,\"fScreenFactor\":1,\"fStatColor\":0,\"fStatTextColor\":1,\"fStatBorderSize\":1,\"fStatFont\":42,\"fStatFontSize\":0,\"fStatStyle\":1001,\"fStatFormat\":\"6.4g\",\"fStatX\":0.98,\"fStatY\":0.935,\"fStatW\":0.2,\"fStatH\":0.16,\"fStripDecimals\":true,\"fTitleAlign\":23,\"fTitleColor\":0,\"fTitleTextColor\":1,\"fTitleBorderSize\":0,\"fTitleFont\":42,\"fTitleFontSize\":0.05,\"fTitleStyle\":0,\"fTitleX\":0.5,\"fTitleY\":0.995,\"fTitleW\":0,\"fTitleH\":0,\"fLegoInnerR\":0.5,\"fLineStyle\":[\"\",\"  \",\" 12 12\",\" 4 8\",\" 12 16 4 16\",\" 20 12 4 12\",\" 20 12 4 12 4 12 4 12\",\" 20 20\",\" 20 12 4 12 4 12\",\" 80 20\",\" 80 40 4 40\",\"  \",\"  \",\"  \",\"  \",\"  \",\"  \",\"  \",\"  \",\"  \",\"  \",\"  \",\"  \",\"  \",\"  \",\"  \",\"  \",\"  \",\"  \",\"  \"],\"fHeaderPS\":\"\",\"fTitlePS\":\"\",\"fFitFormat\":\"5.4g\",\"fPaintTextFormat\":\"g\",\"fLineScalePS\":3,\"fJoinLinePS\":0,\"fCapLinePS\":0,\"fTimeOffset\":788918400,\"fImageScaling\":1}],\"opt\":[\"\",\"\",\"\"]},\"fExecs\":null,\"fName\":\"canvas\",\"fTitle\":\"c_NPV\",\"fNumPaletteColor\":0,\"fNextPaletteColor\":0,\"fDISPLAY\":\"$DISPLAY\",\"fDoubleBuffer\":0,\"fRetained\":true,\"fXsizeUser\":0,\"fYsizeUser\":0,\"fXsizeReal\":20,\"fYsizeReal\":20,\"fWindowTopX\":0,\"fWindowTopY\":0,\"fWindowWidth\":0,\"fWindowHeight\":0,\"fCw\":596,\"fCh\":572,\"fCatt\":{\"_typename\":\"TAttCanvas\",\"fXBetween\":2,\"fYBetween\":2,\"fTitleFromTop\":1.2,\"fXdate\":0.2,\"fYdate\":0.3,\"fAdate\":1},\"kMoveOpaque\":true,\"kResizeOpaque\":true,\"fHighLightColor\":2,\"fBatch\":true,\"kShowEventStatus\":false,\"kAutoExec\":true,\"kMenuBar\":true});\n",
       "       Core.key_handling = false;\n",
       "       Core.draw(\"root_plot_1667863672212\", obj, \"\");\n",
       "     }\n",
       " );\n",
       "</script>\n"
      ],
      "text/plain": [
       "<IPython.core.display.HTML object>"
      ]
     },
     "metadata": {},
     "output_type": "display_data"
    }
   ],
   "source": [
    "savehisto(outputfile, hist_massfourleptons, \"hist_MassFourLeptons\")\n",
    "hist_massfourleptons.Draw()\n",
    "c.Draw()"
   ]
  },
  {
   "cell_type": "code",
   "execution_count": null,
   "id": "exciting-listening",
   "metadata": {},
   "outputs": [],
   "source": []
  }
 ],
 "metadata": {
  "kernelspec": {
   "display_name": "Python 3",
   "language": "python",
   "name": "python3"
  },
  "language_info": {
   "codemirror_mode": {
    "name": "ipython",
    "version": 3
   },
   "file_extension": ".py",
   "mimetype": "text/x-python",
   "name": "python",
   "nbconvert_exporter": "python",
   "pygments_lexer": "ipython3",
   "version": "3.8.5"
  }
 },
 "nbformat": 4,
 "nbformat_minor": 5
}
